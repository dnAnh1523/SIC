{
 "cells": [
  {
   "cell_type": "code",
   "execution_count": 3,
   "id": "8a4a7a8d-623d-464a-9cfe-f535cc6fdd60",
   "metadata": {},
   "outputs": [],
   "source": [
    "import numpy as np\n",
    "import pandas as pd\n",
    "import matplotlib.pyplot as plt\n",
    "import seaborn as sns\n",
    "import os\n",
    "from sklearn.cluster import KMeans\n",
    "import warnings\n",
    "warnings.filterwarnings('ignore')         \n",
    "%matplotlib inline"
   ]
  },
  {
   "cell_type": "code",
   "execution_count": 19,
   "id": "cc64fdeb-e80e-4ebd-abdc-246b1963e374",
   "metadata": {},
   "outputs": [
    {
     "data": {
      "text/html": [
       "<div>\n",
       "<style scoped>\n",
       "    .dataframe tbody tr th:only-of-type {\n",
       "        vertical-align: middle;\n",
       "    }\n",
       "\n",
       "    .dataframe tbody tr th {\n",
       "        vertical-align: top;\n",
       "    }\n",
       "\n",
       "    .dataframe thead th {\n",
       "        text-align: right;\n",
       "    }\n",
       "</style>\n",
       "<table border=\"1\" class=\"dataframe\">\n",
       "  <thead>\n",
       "    <tr style=\"text-align: right;\">\n",
       "      <th></th>\n",
       "      <th>sepal_length</th>\n",
       "      <th>sepal_width</th>\n",
       "      <th>petal_length</th>\n",
       "      <th>petal_width</th>\n",
       "      <th>species</th>\n",
       "    </tr>\n",
       "  </thead>\n",
       "  <tbody>\n",
       "    <tr>\n",
       "      <th>0</th>\n",
       "      <td>5.1</td>\n",
       "      <td>3.5</td>\n",
       "      <td>1.4</td>\n",
       "      <td>0.2</td>\n",
       "      <td>setosa</td>\n",
       "    </tr>\n",
       "    <tr>\n",
       "      <th>1</th>\n",
       "      <td>4.9</td>\n",
       "      <td>3.0</td>\n",
       "      <td>1.4</td>\n",
       "      <td>0.2</td>\n",
       "      <td>setosa</td>\n",
       "    </tr>\n",
       "    <tr>\n",
       "      <th>2</th>\n",
       "      <td>4.7</td>\n",
       "      <td>3.2</td>\n",
       "      <td>1.3</td>\n",
       "      <td>0.2</td>\n",
       "      <td>setosa</td>\n",
       "    </tr>\n",
       "    <tr>\n",
       "      <th>3</th>\n",
       "      <td>4.6</td>\n",
       "      <td>3.1</td>\n",
       "      <td>1.5</td>\n",
       "      <td>0.2</td>\n",
       "      <td>setosa</td>\n",
       "    </tr>\n",
       "    <tr>\n",
       "      <th>4</th>\n",
       "      <td>5.0</td>\n",
       "      <td>3.6</td>\n",
       "      <td>1.4</td>\n",
       "      <td>0.2</td>\n",
       "      <td>setosa</td>\n",
       "    </tr>\n",
       "  </tbody>\n",
       "</table>\n",
       "</div>"
      ],
      "text/plain": [
       "   sepal_length  sepal_width  petal_length  petal_width species\n",
       "0           5.1          3.5           1.4          0.2  setosa\n",
       "1           4.9          3.0           1.4          0.2  setosa\n",
       "2           4.7          3.2           1.3          0.2  setosa\n",
       "3           4.6          3.1           1.5          0.2  setosa\n",
       "4           5.0          3.6           1.4          0.2  setosa"
      ]
     },
     "execution_count": 19,
     "metadata": {},
     "output_type": "execute_result"
    }
   ],
   "source": [
    "df = sns.load_dataset('iris')\n",
    "X = df.drop(columns=['species'])                        \n",
    "Y = df['species']                                       \n",
    "header_X = X.columns\n",
    "df.head()"
   ]
  },
  {
   "cell_type": "code",
   "execution_count": 66,
   "id": "a1933cc0-f3fd-4c32-8530-cfe1c8aaa581",
   "metadata": {},
   "outputs": [],
   "source": [
    "kmeans = KMeans(n_clusters=3, random_state=123)         # kmeans object for 3 clusters. radom_state=123 means deterministic initialization.\n",
    "kmeans.fit(X)                                           # Unsupervised learning => Only X.\n",
    "res = pd.Series(kmeans.labels_)    "
   ]
  },
  {
   "cell_type": "code",
   "execution_count": 68,
   "id": "87795bdc-d914-4f9d-8f48-7025205efa43",
   "metadata": {},
   "outputs": [
    {
     "name": "stdout",
     "output_type": "stream",
     "text": [
      "0      1\n",
      "1      1\n",
      "2      1\n",
      "3      1\n",
      "4      1\n",
      "      ..\n",
      "145    0\n",
      "146    2\n",
      "147    0\n",
      "148    0\n",
      "149    2\n",
      "Length: 150, dtype: int32\n"
     ]
    }
   ],
   "source": [
    "print(res)"
   ]
  },
  {
   "cell_type": "code",
   "execution_count": 22,
   "id": "087d3a86-d59a-44ac-99c5-a571910d51cf",
   "metadata": {},
   "outputs": [
    {
     "name": "stdout",
     "output_type": "stream",
     "text": [
      "species\n",
      "virginica     36\n",
      "versicolor     2\n",
      "Name: count, dtype: int64\n"
     ]
    }
   ],
   "source": [
    "case0 = Y[res==0]\n",
    "print(case0.value_counts())"
   ]
  },
  {
   "cell_type": "code",
   "execution_count": 25,
   "id": "42648573-c15c-4446-bf37-f15e568e099d",
   "metadata": {},
   "outputs": [
    {
     "name": "stdout",
     "output_type": "stream",
     "text": [
      "species\n",
      "setosa    50\n",
      "Name: count, dtype: int64\n"
     ]
    }
   ],
   "source": [
    "case1 = Y[res==1]\n",
    "print(case1.value_counts())"
   ]
  },
  {
   "cell_type": "code",
   "execution_count": 28,
   "id": "1d5690ad-de4f-4b21-88e8-ac9435850ad2",
   "metadata": {},
   "outputs": [
    {
     "name": "stdout",
     "output_type": "stream",
     "text": [
      "species\n",
      "versicolor    48\n",
      "virginica     14\n",
      "Name: count, dtype: int64\n"
     ]
    }
   ],
   "source": [
    "case2 = Y[res==2]\n",
    "print(case2.value_counts())"
   ]
  },
  {
   "cell_type": "code",
   "execution_count": 31,
   "id": "e10563ab-31d5-4145-a56c-fb5826668477",
   "metadata": {},
   "outputs": [],
   "source": [
    "learnedLabels = ['Virginica','Setosa','Versicolor']  "
   ]
  },
  {
   "cell_type": "code",
   "execution_count": 34,
   "id": "51d2ed41-b20e-4e98-b693-eefaa84a3f37",
   "metadata": {},
   "outputs": [
    {
     "data": {
      "text/html": [
       "<div>\n",
       "<style scoped>\n",
       "    .dataframe tbody tr th:only-of-type {\n",
       "        vertical-align: middle;\n",
       "    }\n",
       "\n",
       "    .dataframe tbody tr th {\n",
       "        vertical-align: top;\n",
       "    }\n",
       "\n",
       "    .dataframe thead th {\n",
       "        text-align: right;\n",
       "    }\n",
       "</style>\n",
       "<table border=\"1\" class=\"dataframe\">\n",
       "  <thead>\n",
       "    <tr style=\"text-align: right;\">\n",
       "      <th></th>\n",
       "      <th>sepal_length</th>\n",
       "      <th>sepal_width</th>\n",
       "      <th>petal_length</th>\n",
       "      <th>petal_width</th>\n",
       "    </tr>\n",
       "  </thead>\n",
       "  <tbody>\n",
       "    <tr>\n",
       "      <th>Cluster 0</th>\n",
       "      <td>6.85</td>\n",
       "      <td>3.07</td>\n",
       "      <td>5.74</td>\n",
       "      <td>2.07</td>\n",
       "    </tr>\n",
       "    <tr>\n",
       "      <th>Cluster 1</th>\n",
       "      <td>5.01</td>\n",
       "      <td>3.43</td>\n",
       "      <td>1.46</td>\n",
       "      <td>0.25</td>\n",
       "    </tr>\n",
       "    <tr>\n",
       "      <th>Cluster 2</th>\n",
       "      <td>5.90</td>\n",
       "      <td>2.75</td>\n",
       "      <td>4.39</td>\n",
       "      <td>1.43</td>\n",
       "    </tr>\n",
       "  </tbody>\n",
       "</table>\n",
       "</div>"
      ],
      "text/plain": [
       "           sepal_length  sepal_width  petal_length  petal_width\n",
       "Cluster 0          6.85         3.07          5.74         2.07\n",
       "Cluster 1          5.01         3.43          1.46         0.25\n",
       "Cluster 2          5.90         2.75          4.39         1.43"
      ]
     },
     "execution_count": 34,
     "metadata": {},
     "output_type": "execute_result"
    }
   ],
   "source": [
    "np.round(pd.DataFrame(kmeans.cluster_centers_,columns=header_X,index=['Cluster 0','Cluster 1','Cluster 2']),2)"
   ]
  },
  {
   "cell_type": "code",
   "execution_count": 54,
   "id": "56071648-1b6b-4009-85c4-3ddf8e54a597",
   "metadata": {},
   "outputs": [
    {
     "data": {
      "image/png": "[encoded data removed]",
      "text/plain": [
       "<Figure size 640x480 with 1 Axes>"
      ]
     },
     "metadata": {},
     "output_type": "display_data"
    }
   ],
   "source": [
    "sns.countplot(case0, color=\"#41ab86\").set_title('Cluster 0')\n",
    "plt.show()"
   ]
  },
  {
   "cell_type": "code",
   "execution_count": 56,
   "id": "28abf366-9f20-4df2-9f71-28a13ca5dd58",
   "metadata": {},
   "outputs": [
    {
     "data": {
      "image/png": "[encoded data removed]",
      "text/plain": [
       "<Figure size 640x480 with 1 Axes>"
      ]
     },
     "metadata": {},
     "output_type": "display_data"
    }
   ],
   "source": [
    "sns.countplot(case1, color=\"#7b41ab\").set_title('Cluster 1')\n",
    "plt.show()"
   ]
  },
  {
   "cell_type": "code",
   "execution_count": 58,
   "id": "a6c044c6-b398-4197-a66f-5c4f85e7b6b8",
   "metadata": {},
   "outputs": [
    {
     "data": {
      "image/png": "[encoded data removed]",
      "text/plain": [
       "<Figure size 640x480 with 1 Axes>"
      ]
     },
     "metadata": {},
     "output_type": "display_data"
    }
   ],
   "source": [
    "sns.countplot(case2, color=\"#db925a\").set_title('Cluster 2')\n",
    "plt.show()"
   ]
  },
  {
   "cell_type": "code",
   "execution_count": 70,
   "id": "31a825b7-9fd2-4d1a-8820-e7ba317ca8a0",
   "metadata": {},
   "outputs": [
    {
     "name": "stdout",
     "output_type": "stream",
     "text": [
      "Predicted cluster 2 with the most probable label 'Versicolor'\n"
     ]
    }
   ],
   "source": [
    "X_test = {'sepal_length': [5.2] ,'sepal_width': [3.1] , 'petal_length': [5.2]  ,'petal_width': [1.3] }   \n",
    "X_test = pd.DataFrame(X_test)\n",
    "predCluster = kmeans.predict(X_test)[0]\n",
    "print(\"Predicted cluster {} with the most probable label '{}'\".format(predCluster,learnedLabels[predCluster]))"
   ]
  },
  {
   "cell_type": "code",
   "execution_count": 72,
   "id": "22364140-e892-43d2-921e-4a877412ab9c",
   "metadata": {},
   "outputs": [
    {
     "name": "stdout",
     "output_type": "stream",
     "text": [
      "Predicted cluster 1 with the most probable label 'Setosa'\n"
     ]
    }
   ],
   "source": [
    "X_test = {'sepal_length': [4.6] ,'sepal_width': [4.0] , 'petal_length': [1.3]  ,'petal_width': [1.1] }   \n",
    "X_test = pd.DataFrame(X_test)\n",
    "predCluster = kmeans.predict(X_test)[0]\n",
    "print(\"Predicted cluster {} with the most probable label '{}'\".format(predCluster,learnedLabels[predCluster]))"
   ]
  },
  {
   "cell_type": "code",
   "execution_count": 74,
   "id": "411347a8-0842-4816-83fb-2fa9c939794b",
   "metadata": {},
   "outputs": [
    {
     "name": "stdout",
     "output_type": "stream",
     "text": [
      "Predicted cluster 0 with the most probable label 'Virginica'\n"
     ]
    }
   ],
   "source": [
    "X_test = {'sepal_length': [6.9] ,'sepal_width': [3.9] , 'petal_length': [4.9]  ,'petal_width': [1.2] }   \n",
    "X_test = pd.DataFrame(X_test)\n",
    "predCluster = kmeans.predict(X_test)[0]\n",
    "print(\"Predicted cluster {} with the most probable label '{}'\".format(predCluster,learnedLabels[predCluster]))"
   ]
  },
  {
   "cell_type": "code",
   "execution_count": null,
   "id": "89b6c14f-3041-4484-a4e5-9a3f43195003",
   "metadata": {},
   "outputs": [],
   "source": []
  }
 ],
 "metadata": {
  "kernelspec": {
   "display_name": "Python 3 (ipykernel)",
   "language": "python",
   "name": "python3"
  },
  "language_info": {
   "codemirror_mode": {
    "name": "ipython",
    "version": 3
   },
   "file_extension": ".py",
   "mimetype": "text/x-python",
   "name": "python",
   "nbconvert_exporter": "python",
   "pygments_lexer": "ipython3",
   "version": "3.12.4"
  }
 },
 "nbformat": 4,
 "nbformat_minor": 5
}

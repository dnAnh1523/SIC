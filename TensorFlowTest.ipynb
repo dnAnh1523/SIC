{
 "cells": [
  {
   "cell_type": "code",
   "execution_count": null,
   "id": "355756b6-c1b2-4e83-a95b-3f81f4edddb5",
   "metadata": {},
   "outputs": [],
   "source": [
    "!pip install tensorflow\n",
    "import numpy as np\n",
    "import tensorflow as tf"
   ]
  },
  {
   "cell_type": "code",
   "execution_count": 6,
   "id": "34ecfd2d-b7bd-42d7-a4ac-5495de70accf",
   "metadata": {},
   "outputs": [
    {
     "data": {
      "text/plain": [
       "TensorShape([2, 5])"
      ]
     },
     "execution_count": 6,
     "metadata": {},
     "output_type": "execute_result"
    }
   ],
   "source": [
    "np.set_printoptions(precision=5)\n",
    "a = np.array([1, 2, 3, 4, 5],dtype=np.int32)\n",
    "b = [6, 7, 8, 9, 10]\n",
    "t_a = tf.convert_to_tensor(a)\n",
    "t_b = tf.convert_to_tensor(b)\n",
    "t_one = tf.ones((2,5))\n",
    "t_one.shape"
   ]
  },
  {
   "cell_type": "code",
   "execution_count": 8,
   "id": "5fac6fa8-8a3d-487e-92a2-3375959a9a05",
   "metadata": {},
   "outputs": [
    {
     "data": {
      "text/plain": [
       "<tf.Tensor: shape=(5, 3), dtype=int32, numpy=\n",
       "array([[1, 1, 1],\n",
       "       [1, 1, 1],\n",
       "       [1, 1, 1],\n",
       "       [1, 1, 1],\n",
       "       [1, 1, 1]])>"
      ]
     },
     "execution_count": 8,
     "metadata": {},
     "output_type": "execute_result"
    }
   ],
   "source": [
    "tf.fill((5,3),1)"
   ]
  },
  {
   "cell_type": "code",
   "execution_count": 10,
   "id": "6c048ba7-6702-4c36-ab02-04aeb865d061",
   "metadata": {},
   "outputs": [
    {
     "data": {
      "text/plain": [
       "<tf.Tensor: shape=(3, 6), dtype=float32, numpy=\n",
       "array([[0., 1., 0., 0., 0., 0.],\n",
       "       [0., 0., 0., 1., 0., 0.],\n",
       "       [0., 0., 0., 0., 0., 1.]], dtype=float32)>"
      ]
     },
     "execution_count": 10,
     "metadata": {},
     "output_type": "execute_result"
    }
   ],
   "source": [
    "tf.one_hot([1,3,5],6)"
   ]
  },
  {
   "cell_type": "code",
   "execution_count": 14,
   "id": "7a9b7106-7e00-49b4-9b2e-0ab1c718ad3c",
   "metadata": {},
   "outputs": [
    {
     "name": "stdout",
     "output_type": "stream",
     "text": [
      "tf.Tensor(\n",
      "[[6.98106 4.96906 4.17594]\n",
      " [5.18034 1.30294 7.16205]\n",
      " [7.66106 8.852   3.03694]\n",
      " [3.00877 3.79349 7.50102]\n",
      " [2.19868 5.93257 6.17148]], shape=(5, 3), dtype=float32)\n",
      "tf.Tensor(\n",
      "[[ 8.42246e-02 -8.60904e-01  3.78123e-01]\n",
      " [-5.19627e-03 -4.94532e-01  6.17819e-01]\n",
      " [-3.30820e-01 -1.38408e-03 -4.23734e-01]\n",
      " [-1.38721e+00 -1.54882e+00 -5.31984e-01]\n",
      " [-4.47564e-01 -2.01158e+00 -5.79260e-01]], shape=(5, 3), dtype=float32)\n"
     ]
    }
   ],
   "source": [
    "tf.random.set_seed(42)\n",
    "t1 = tf.random.uniform(shape=(5,3), minval=1.0, maxval=10)\n",
    "t2 = tf.random.normal(shape=(5,3), mean=0.0, stddev=1.0)\n",
    "print(t1)\n",
    "print(t2)"
   ]
  },
  {
   "cell_type": "code",
   "execution_count": 16,
   "id": "1c1034f6-a42a-4b01-b431-a276a672ffff",
   "metadata": {},
   "outputs": [
    {
     "name": "stdout",
     "output_type": "stream",
     "text": [
      "[[  0.58798  -4.27788   1.57902]\n",
      " [ -0.02692  -0.64435   4.42485]\n",
      " [ -2.53443  -0.01225  -1.28685]\n",
      " [ -4.17379  -5.87543  -3.99042]\n",
      " [ -0.98405 -11.93386  -3.57489]]\n"
     ]
    }
   ],
   "source": [
    "t = tf.multiply(t1,t2).numpy()\n",
    "print(t)"
   ]
  },
  {
   "cell_type": "code",
   "execution_count": 20,
   "id": "112c8980-f5e8-4546-b929-62620b07f2f6",
   "metadata": {},
   "outputs": [
    {
     "name": "stdout",
     "output_type": "stream",
     "text": [
      "<_TensorSliceDataset element_spec=TensorSpec(shape=(), dtype=tf.float32, name=None)>\n",
      "tf.Tensor(1.1, shape=(), dtype=float32)\n",
      "tf.Tensor(3.6, shape=(), dtype=float32)\n",
      "tf.Tensor(4.5, shape=(), dtype=float32)\n",
      "tf.Tensor(2.1, shape=(), dtype=float32)\n",
      "tf.Tensor(5.0, shape=(), dtype=float32)\n",
      "tf.Tensor(6.2, shape=(), dtype=float32)\n",
      "tf.Tensor(2.2, shape=(), dtype=float32)\n",
      "tf.Tensor(3.4, shape=(), dtype=float32)\n",
      "batch1: [1.1 3.6]\n",
      "batch2: [4.5 2.1]\n",
      "batch3: [5.  6.2]\n",
      "batch4: [2.2 3.4]\n"
     ]
    }
   ],
   "source": [
    "a=[1.1,3.6, 4.5, 2.1, 5.0, 6.2, 2.2, 3.4]\n",
    "ds = tf.data.Dataset.from_tensor_slices(a)\n",
    "print(ds)\n",
    "for i in ds:\n",
    "    print(i)\n",
    "# create a batch\n",
    "ds_batch = ds.batch(2)\n",
    "for i, e in enumerate(ds_batch,1):\n",
    "    print('batch{}:'.format(i), e.numpy())"
   ]
  },
  {
   "cell_type": "code",
   "execution_count": 22,
   "id": "59bbe1ab-376b-444b-9e1d-fa2ddfbf38e6",
   "metadata": {},
   "outputs": [
    {
     "name": "stdout",
     "output_type": "stream",
     "text": [
      " x:  [0.66456 0.44101 0.35288]  y:  0\n",
      " x:  [0.46448 0.03366 0.68467]  y:  1\n",
      " x:  [0.74012 0.87244 0.22633]  y:  2\n",
      " x:  [0.2232  0.31039 0.72234]  y:  3\n",
      " x:  [0.13319 0.54806 0.57461]  y:  4\n"
     ]
    }
   ],
   "source": [
    "tf.random.set_seed(42)\n",
    "tx = tf.random.uniform([5,3], dtype=tf.float32)\n",
    "ty = tf.range(5)\n",
    "dsX = tf.data.Dataset.from_tensor_slices(tx)\n",
    "dsY = tf.data.Dataset.from_tensor_slices(ty)\n",
    "ds_merge = tf.data.Dataset.zip((dsX,dsY))\n",
    "for i in ds_merge:\n",
    "    print(' x: ', i[0].numpy(), ' y: ', i[1].numpy())"
   ]
  },
  {
   "cell_type": "code",
   "execution_count": 24,
   "id": "e2ce7b87-2a9b-4416-b549-e773c60c32bc",
   "metadata": {},
   "outputs": [
    {
     "name": "stdout",
     "output_type": "stream",
     "text": [
      " x:  [0.46448 0.03366 0.68467]  y:  1\n",
      " x:  [0.74012 0.87244 0.22633]  y:  2\n",
      " x:  [0.66456 0.44101 0.35288]  y:  0\n",
      " x:  [0.13319 0.54806 0.57461]  y:  4\n",
      " x:  [0.2232  0.31039 0.72234]  y:  3\n"
     ]
    }
   ],
   "source": [
    "tf.random.set_seed(1)\n",
    "ds = ds_merge.shuffle(buffer_size=len(tx))\n",
    "for i in ds:\n",
    "    print(' x: ', i[0].numpy(), ' y: ', i[1].numpy())"
   ]
  },
  {
   "cell_type": "code",
   "execution_count": 26,
   "id": "2286a60c-dcec-413a-ba61-31439b3f9652",
   "metadata": {},
   "outputs": [
    {
     "name": "stdout",
     "output_type": "stream",
     "text": [
      "batch x: \n",
      " [[0.66456 0.44101 0.35288]\n",
      " [0.46448 0.03366 0.68467]]\n",
      "batch y: \n",
      " [0 1]\n",
      "Bactch:\n",
      "\n",
      "[[0.66456 0.44101 0.35288]\n",
      " [0.46448 0.03366 0.68467]]   [0 1]\n",
      "[[0.74012 0.87244 0.22633]\n",
      " [0.2232  0.31039 0.72234]]   [2 3]\n",
      "[[0.13319 0.54806 0.57461]]   [4]\n"
     ]
    }
   ],
   "source": [
    "ds = ds_merge.batch(batch_size=2, drop_remainder=False)\n",
    "batch_x, batch_y = next(iter(ds))\n",
    "print('batch x: \\n', batch_x.numpy())\n",
    "print('batch y: \\n', batch_y.numpy())\n",
    "print('Bactch:\\n')\n",
    "for i in ds:\n",
    "    print(i[0].numpy(),' ',i[1].numpy())"
   ]
  },
  {
   "cell_type": "code",
   "execution_count": 40,
   "id": "aaf2a3c8-b374-4f09-83d3-bfb5fccdb1b6",
   "metadata": {},
   "outputs": [
    {
     "name": "stdout",
     "output_type": "stream",
     "text": [
      "0 (2, 3) [4 1]\n",
      "1 (2, 3) [4 1]\n",
      "2 (2, 3) [4 1]\n",
      "3 (2, 3) [4 1]\n",
      "4 (2, 3) [4 1]\n",
      "5 (2, 3) [4 1]\n"
     ]
    }
   ],
   "source": [
    "ds = ds_merge.batch(3).repeat(count=3)\n",
    "for i, (batchx, batchy) in enumerate(ds):\n",
    "    print(i, batch_x.shape, batch_y.numpy())"
   ]
  },
  {
   "cell_type": "code",
   "execution_count": 38,
   "id": "4b674b66-a297-4229-8937-7e6d26d4ddf1",
   "metadata": {},
   "outputs": [
    {
     "name": "stdout",
     "output_type": "stream",
     "text": [
      "0 (3, 3) [2 0 1]\n",
      "1 (2, 3) [4 3]\n",
      "2 (3, 3) [0 2 1]\n",
      "3 (2, 3) [3 4]\n",
      "4 (3, 3) [1 0 3]\n",
      "5 (2, 3) [4 2]\n",
      "6 (3, 3) [1 3 0]\n",
      "7 (2, 3) [4 2]\n",
      "8 (3, 3) [0 4 2]\n",
      "9 (2, 3) [1 3]\n",
      "10 (3, 3) [2 3 0]\n",
      "11 (2, 3) [4 1]\n",
      "12 (3, 3) [1 3 0]\n",
      "13 (2, 3) [4 2]\n",
      "14 (3, 3) [3 2 0]\n",
      "15 (2, 3) [1 4]\n",
      "16 (3, 3) [3 4 1]\n",
      "17 (2, 3) [0 2]\n",
      "18 (3, 3) [3 0 2]\n",
      "19 (2, 3) [4 1]\n"
     ]
    }
   ],
   "source": [
    "ds = ds_merge.shuffle(4).batch(3).repeat(10)\n",
    "for i, (batch_x, batch_y) in enumerate(ds):\n",
    "    print(i, batch_x.shape, batch_y.numpy())"
   ]
  },
  {
   "cell_type": "code",
   "execution_count": null,
   "id": "7de10551-3b7f-4f9e-ac45-d2bffe122a30",
   "metadata": {},
   "outputs": [],
   "source": []
  }
 ],
 "metadata": {
  "kernelspec": {
   "display_name": "Python 3 (ipykernel)",
   "language": "python",
   "name": "python3"
  },
  "language_info": {
   "codemirror_mode": {
    "name": "ipython",
    "version": 3
   },
   "file_extension": ".py",
   "mimetype": "text/x-python",
   "name": "python",
   "nbconvert_exporter": "python",
   "pygments_lexer": "ipython3",
   "version": "3.12.4"
  }
 },
 "nbformat": 4,
 "nbformat_minor": 5
}
